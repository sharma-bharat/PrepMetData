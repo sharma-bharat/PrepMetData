{
 "cells": [
  {
   "cell_type": "code",
   "execution_count": 1,
   "id": "5eb54717-d6d3-48dc-b660-21995430f650",
   "metadata": {},
   "outputs": [],
   "source": [
    "# Fix the duplicate problem"
   ]
  },
  {
   "cell_type": "code",
   "execution_count": null,
   "id": "099235f8-9abe-4aa1-aa60-0eabb4332c8b",
   "metadata": {},
   "outputs": [],
   "source": []
  },
  {
   "cell_type": "code",
   "execution_count": null,
   "id": "b01c6733-10bc-4248-9d7c-3dd7eba40d38",
   "metadata": {},
   "outputs": [],
   "source": []
  },
  {
   "cell_type": "code",
   "execution_count": 20,
   "id": "4c64b1f0-9e37-485f-a62e-6dc286d24055",
   "metadata": {},
   "outputs": [
    {
     "name": "stdout",
     "output_type": "stream",
     "text": [
      "/Users/ud4/Documents/FACEMDS/MET_Data_Processing/Oren_2022_DUKE_Met/data/DukeFACE_Precip9712/DukeFACE_Precip2009_gf.csv has 22 common rows\n",
      "\n",
      "    Year      JDT  DOY  Time\n",
      "0   2009  6967.54  365  2400\n",
      "1   2009  6967.56    1    30\n",
      "2   2009  6967.58    1   100\n",
      "3   2009  6967.60    1   130\n",
      "4   2009  6967.63    1   200\n",
      "5   2009  6967.65    1   230\n",
      "6   2009  6967.67    1   300\n",
      "7   2009  6967.69    1   330\n",
      "8   2009  6967.71    1   400\n",
      "9   2009  6967.73    1   430\n",
      "10  2009  6967.75    1   500\n",
      "11  2009  6967.77    1   530\n",
      "12  2009  6967.79    1   600\n",
      "13  2009  6967.81    1   630\n",
      "14  2009  6967.83    1   700\n",
      "15  2009  6967.85    1   730\n",
      "16  2009  6967.88    1   800\n",
      "17  2009  6967.90    1   830\n",
      "18  2009  6967.92    1   900\n",
      "19  2009  6967.94    1   930\n",
      "20  2009  6967.96    1  1000\n",
      "21  2009  6967.98    1  1030\n",
      "      Year      JDT  DOY  Time\n",
      "1274  2009  6967.54   27  1330\n",
      "1275  2009  6967.56   27  1400\n",
      "1276  2009  6967.58   27  1430\n",
      "1277  2009  6967.60   27  1500\n",
      "1278  2009  6967.63   27  1530\n",
      "1279  2009  6967.65   27  1600\n",
      "1280  2009  6967.67   27  1630\n",
      "1281  2009  6967.69   27  1700\n",
      "1282  2009  6967.71   27  1730\n",
      "1283  2009  6967.73   27  1800\n",
      "1284  2009  6967.75   27  1830\n",
      "1285  2009  6967.77   27  1900\n",
      "1286  2009  6967.79   27  1930\n",
      "1287  2009  6967.81   27  2000\n",
      "1288  2009  6967.83   27  2030\n",
      "1289  2009  6967.85   27  2100\n",
      "1290  2009  6967.88   27  2130\n",
      "1291  2009  6967.90   27  2200\n",
      "1292  2009  6967.92   27  2230\n",
      "1293  2009  6967.94   27  2300\n",
      "1294  2009  6967.96   27  2330\n",
      "1295  2009  6967.98   27  2400\n",
      "/Users/ud4/Documents/FACEMDS/MET_Data_Processing/Oren_2022_DUKE_Met/data/DukeFACE_Precip9712/DukeFACE_Precip2009_gf.csv updated with correct values\n",
      "hhh \n",
      " \t hhhh\n"
     ]
    }
   ],
   "source": [
    "import pandas as pd\n",
    "import glob\n",
    "import numpy as np\n",
    "\n",
    "df_correct_idx = pd.read_csv('DuplicateDukeDataCorrectIndexOnly.txt', delim_whitespace=True)\n",
    "\n",
    "path_data = \"/Users/ud4/Documents/FACEMDS/MET_Data_Processing/Oren_2022_DUKE_Met/data/\"\n",
    "selected_cols = ['Year','JDT','DOY','Time']\n",
    "selected_cols_filter = ['Year','JDT']\n",
    "\n",
    "all_files = glob.glob(f\"{path_data}*/*Pre*200*_gf.csv\")\n",
    "\n",
    "for file in all_files:\n",
    "    df_tmp = pd.read_csv(file, delimiter=',')\n",
    "    # Check if there are common rows of duplicates\n",
    "    df_common_rows = pd.merge(df_tmp[selected_cols], df_correct_idx[selected_cols_filter], on=['Year', 'JDT'], how='inner')\n",
    "    if len(df_common_rows)> 0:\n",
    "        # selecting the common dataframe in commom rows dataframe\n",
    "        common_df_in_correct = df_correct_idx[df_correct_idx['JDT'].isin(df_common_rows['JDT'])]\n",
    "        \n",
    "        # Checking if the common data frame is correct\n",
    "        if np.sum(df_common_rows.values == common_df_in_correct[selected_cols].values)==4:\n",
    "            continue\n",
    "        \n",
    "        # using the filter based on 'JDT' update the dataframe with correct values in 'selected_cols'\n",
    "        # Find indices of common rows in df_tmp\n",
    "        common_row_indices = df_tmp[df_tmp['JDT'].isin(df_common_rows['JDT'])].index\n",
    "        # Updating the current file\n",
    "        df_tmp.loc[common_row_indices, selected_cols] = np.asarray(common_df_in_correct[selected_cols].values,dtype=int)\n",
    "\n",
    "        print (f\"{file} has {len(df_common_rows)} common rows\\n\")\n",
    "        print(df_common_rows)\n",
    "        print(common_df_in_correct[selected_cols])\n",
    "        df_tmp.to_csv(f\"{file}\")\n",
    "        print(f\"{file} updated with correct values\")"
   ]
  },
  {
   "cell_type": "code",
   "execution_count": 22,
   "id": "219ea0a3-f596-4526-ae6a-7981b6e04b81",
   "metadata": {},
   "outputs": [
    {
     "data": {
      "text/plain": [
       "array([[2007, 6220,   11,   30]])"
      ]
     },
     "execution_count": 22,
     "metadata": {},
     "output_type": "execute_result"
    }
   ],
   "source": [
    "np.asarray(common_df_in_correct[selected_cols].values,dtype=int)"
   ]
  },
  {
   "cell_type": "code",
   "execution_count": null,
   "id": "12712f47-f1b2-48e8-b058-05279595a719",
   "metadata": {},
   "outputs": [],
   "source": []
  }
 ],
 "metadata": {
  "kernelspec": {
   "display_name": "Python [conda env:pyces] *",
   "language": "python",
   "name": "conda-env-pyces-py"
  },
  "language_info": {
   "codemirror_mode": {
    "name": "ipython",
    "version": 3
   },
   "file_extension": ".py",
   "mimetype": "text/x-python",
   "name": "python",
   "nbconvert_exporter": "python",
   "pygments_lexer": "ipython3",
   "version": "3.9.6"
  }
 },
 "nbformat": 4,
 "nbformat_minor": 5
}
